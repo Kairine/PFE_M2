{
 "cells": [
  {
   "cell_type": "code",
   "execution_count": null,
   "metadata": {},
   "outputs": [],
   "source": [
    "import os\n",
    "import pickle\n",
    "import pandas as pd\n",
    "\n",
    "from collections import Counter"
   ]
  },
  {
   "cell_type": "markdown",
   "metadata": {},
   "source": [
    "### pkl to stats"
   ]
  },
  {
   "cell_type": "code",
   "execution_count": null,
   "metadata": {},
   "outputs": [],
   "source": [
    "def pkl_to_stats(output_rep):\n",
    "\n",
    "    for name in os.listdir(output_rep):\n",
    "        corpus_path = os.path.join(output_rep, name)\n",
    "        print('Processing', corpus_path)\n",
    "        if '{}_stats.xlsx'.format(name) not in os.listdir(corpus_path): # pour garder les résultats déjà faits\n",
    "            \n",
    "            # charger les données pkl\n",
    "            datapath = os.path.join(corpus_path, '{}.pkl'.format(name))\n",
    "            with open(datapath, 'rb') as pklio:\n",
    "                data = pickle.load(pklio)\n",
    "\n",
    "            # compter le nombre d'occurrences\n",
    "            c = Counter()\n",
    "            _ = [c.update(urls) for urls in data.values()]\n",
    "            del c['']\n",
    "\n",
    "            # counter to df\n",
    "            c_ = c.most_common()\n",
    "            df_counts = pd.DataFrame(columns=['url', 'nb_occur', 'copier_coller', 'degré_cc', 'longueur', 'type', 'domaine', 'citer_source', 'licence', 'misc'])\n",
    "            df_counts = df_counts.assign(url=[p[0] for p in c_])\n",
    "            df_counts = df_counts.assign(nb_occur=[p[1] for p in c_])\n",
    "\n",
    "            # df to excel\n",
    "            statpath = os.path.join(corpus_path, '{}_stats.xlsx'.format(name))\n",
    "            with pd.ExcelWriter(statpath) as writer:\n",
    "                df_counts.to_excel(writer, sheet_name='comptage_url', encoding='utf8')\n",
    "                \n",
    "    return True"
   ]
  },
  {
   "cell_type": "code",
   "execution_count": null,
   "metadata": {},
   "outputs": [],
   "source": [
    "#output_rep = '../0_data_google'\n",
    "#output_rep = '../0_data_google_exact'\n",
    "\n",
    "pkl_to_stats('../0_data_google')\n",
    "pkl_to_stats('../0_data_google_exact')"
   ]
  },
  {
   "cell_type": "markdown",
   "metadata": {},
   "source": [
    "### stats to urls"
   ]
  },
  {
   "cell_type": "code",
   "execution_count": null,
   "metadata": {},
   "outputs": [],
   "source": [
    "def stats_to_urls(output_rep):\n",
    "    for name in os.listdir(output_rep):\n",
    "        corpus_path = os.path.join(output_rep, name)\n",
    "        urls_path = os.path.join(corpus_path, '{}_urls.xlsx'.format(name))\n",
    "        stats_path = os.path.join(corpus_path, '{}_stats.xslx'.format(name))\n",
    "        data_path = os.path.join(corpus_path, '{}.pkl'.format(name))\n",
    "        \n",
    "        with open(data_path, 'rb') as pklio:\n",
    "            data = pickle.load(pklio)\n",
    "        \n",
    "        res = pd.read_excel(stats_path, index_col=0)\n",
    "        res = res.set_index('url')\n",
    "\n",
    "        with pd.ExcelWriter(urls_path) as writer:\n",
    "            for i, item in enumerate(data.items()):\n",
    "                sent, urls_list = item\n",
    "                df = pd.DataFrame(columns=res.columns)\n",
    "                for url in urls_list:\n",
    "                    if url:\n",
    "                        df = df.append(res.loc[url, :])\n",
    "                df = df.reset_index().rename(columns={'index':'url'})\n",
    "                df.to_excel(writer, sheet_name='text_{}'.format(i+1))\n",
    "                #print(sent)\n",
    "                \n",
    "    return True"
   ]
  },
  {
   "cell_type": "code",
   "execution_count": null,
   "metadata": {},
   "outputs": [],
   "source": [
    "stats_to_urls('../0_data_google')\n",
    "stats_to_urls('../0_data_google_exact')"
   ]
  }
 ],
 "metadata": {
  "kernelspec": {
   "display_name": "Python 3",
   "language": "python",
   "name": "python3"
  },
  "language_info": {
   "codemirror_mode": {
    "name": "ipython",
    "version": 3
   },
   "file_extension": ".py",
   "mimetype": "text/x-python",
   "name": "python",
   "nbconvert_exporter": "python",
   "pygments_lexer": "ipython3",
   "version": "3.7.4"
  }
 },
 "nbformat": 4,
 "nbformat_minor": 4
}
