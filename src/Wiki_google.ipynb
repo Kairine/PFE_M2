{
 "cells": [
  {
   "cell_type": "markdown",
   "metadata": {},
   "source": [
    "## Scrap Wikipédia\n",
    "\n",
    "Langue étudiée: français"
   ]
  },
  {
   "cell_type": "markdown",
   "metadata": {},
   "source": [
    "### Préparation d'environnement"
   ]
  },
  {
   "cell_type": "code",
   "execution_count": 1,
   "metadata": {},
   "outputs": [],
   "source": [
    "import requests\n",
    "import re\n",
    "import os\n",
    "import time\n",
    "\n",
    "from random import uniform\n",
    "from tqdm import tqdm\n",
    "from bs4 import BeautifulSoup as bs"
   ]
  },
  {
   "cell_type": "code",
   "execution_count": 2,
   "metadata": {},
   "outputs": [],
   "source": [
    "def verify_rep(rep):\n",
    "    '''\n",
    "    Vérifier l'existence des répertoires, en créer si besoin\n",
    "    '''\n",
    "    try:\n",
    "        os.makedirs(rep) # on essaie de créer le répertoire. si le répertoire existe déjà, cela renvoie une erreur\n",
    "    except:\n",
    "        pass # en cas d'erreur (le répertoire existe), on fait rien\n",
    "\n",
    "def kw2name(kw):\n",
    "    '''\n",
    "    Formatage de variable\n",
    "    '''\n",
    "    return re.sub('\\W', '_', kw.lower())"
   ]
  },
  {
   "cell_type": "code",
   "execution_count": 3,
   "metadata": {},
   "outputs": [],
   "source": [
    "verify_rep('../0_data_wiki/pages_aspirees')\n",
    "verify_rep('../0_data_wiki/textes_bruts')\n",
    "verify_rep('../0_data_google')"
   ]
  },
  {
   "cell_type": "markdown",
   "metadata": {},
   "source": [
    "### Récupération de pages d'origine"
   ]
  },
  {
   "cell_type": "code",
   "execution_count": 4,
   "metadata": {},
   "outputs": [],
   "source": [
    "def get_page(kw):\n",
    "    '''\n",
    "    Récupération des pages wikipédia\n",
    "    \n",
    "    input:\n",
    "    kw (STR): nom de la page à récupérer\n",
    "    \n",
    "    output:\n",
    "    kw (STR)\n",
    "    page (STR): html de la page récupérée\n",
    "    '''\n",
    "    global URL # l'url de l'api utilisé, défini dans l'environnement\n",
    "    \n",
    "    PARAMS = {\n",
    "        \"action\": \"parse\", # l'api parse le contenu de la page et renvoie le text\n",
    "        \"page\": kw, # on précise la page \n",
    "        \"format\": \"json\", # l'api renvoie le text en format json\n",
    "        \"prop\":\"text\", # on ne prend que le text\n",
    "        \"section\":0 # on ne prend que l'introduction (première section de la page)\n",
    "    }\n",
    "    \n",
    "    S = requests.Session() # on crée une session avec requests\n",
    "    R = S.get(url=URL, params=PARAMS) # on passe la requête à la session\n",
    "    DATA = R.json() # on récupère le résultat au format json\n",
    "    page = DATA[\"parse\"][\"text\"][\"*\"] # on récupère la page html dans le json renvoyé\n",
    "    \n",
    "    filename = kw2name(kw)\n",
    "    with open('../0_data_wiki/pages_aspirees/{}.html'.format(filename), 'w', encoding='utf8', newline='\\n') as htmlfile:\n",
    "        htmlfile.write(page) # on écrit la page html en local\n",
    "        \n",
    "    return kw, page"
   ]
  },
  {
   "cell_type": "code",
   "execution_count": 5,
   "metadata": {},
   "outputs": [],
   "source": [
    "URL = \"https://fr.wikipedia.org/w/api.php\" # l'api utilisé\n",
    "KWS = ['Gustave Flaubert', 'Charles de Gaulle', 'Britney Spears'] # la liste de noms de page à récupérer\n",
    "\n",
    "pages = dict(map(get_page, KWS)) \n",
    "# on applique la fonction get_page à tous les éléments de KWS, le résultat est renvoyé sous forme de dictionnaire\n",
    "# dictionnaire {nom_de_page:html_de_page}"
   ]
  },
  {
   "cell_type": "markdown",
   "metadata": {},
   "source": [
    "### Nettoyage de text"
   ]
  },
  {
   "cell_type": "code",
   "execution_count": 6,
   "metadata": {},
   "outputs": [],
   "source": [
    "def span_filter(span):\n",
    "    '''\n",
    "    Fonction pour filtrer les balises span\n",
    "    On ne veut pas de balise pour la transcription phonétique (span API) ni les messages d'erreur (span error)\n",
    "    \n",
    "    input:\n",
    "    span (bs.tag): balise span\n",
    "    \n",
    "    output:\n",
    "    bool\n",
    "    '''\n",
    "    return ('API' in span['class']) or ('error' in span['class'])\n",
    "\n",
    "def get_text(p):\n",
    "    '''\n",
    "    Fonction pour nettoyer le html et extraire le texte de chaque paragraphe\n",
    "    '''\n",
    "    if p.sup:\n",
    "        p.sup.extract()\n",
    "    if p.span and span_filter(p.span): # enlever les span inutiles\n",
    "        p.span.extract()\n",
    "    if p.style:\n",
    "        p.style.extract()\n",
    "    text = p.text.strip() # enlever les espaces qui traînent\n",
    "    text = re.sub('\\s+', ' ', text) # enlever les suites d'espace produites lors du nettoyage\n",
    "    if len(text) < 50: # enlever wikipédia machin \"modifier - modifier page...\"\n",
    "        return ''\n",
    "    else:\n",
    "        return text\n",
    "\n",
    "def parse_wiki_page(kw_page):\n",
    "    '''\n",
    "    Parsing de la page wikipédia\n",
    "    Une balise p enveloppe un paragraphe. On parse toute l'arborescence html, on prend toutes les balises p, \n",
    "    et on nettoie ces balises pour obtenir une liste de texte brut.\n",
    "    \n",
    "    input:\n",
    "    kw_page (TUPLE): (nom de page, html de page)\n",
    "    page (STR): html de page\n",
    "    \n",
    "    output:\n",
    "    text_list_net (LIST): liste de paragraphes\n",
    "    '''\n",
    "    kw, page = kw_page\n",
    "    soup = bs(page) # on parse la page\n",
    "    p_list = soup.find_all('p') # on récupère toutes les p\n",
    "    text_list = list(map(get_text, p_list)) # on nettoie les balises et on obtient les textes\n",
    "    text_list_net = list(filter(lambda x: x, text_list)) # on enlève les textes vides\n",
    "    \n",
    "    filename = kw2name(kw)\n",
    "    with open('../0_data_wiki/textes_bruts/{}.txt'.format(filename), 'w', encoding='utf8', newline='\\n') as txtfile:\n",
    "        txtfile.write('\\n\\n'.join(text_list_net)) # on écrit ces textes en local\n",
    "    \n",
    "    return kw, text_list_net"
   ]
  },
  {
   "cell_type": "code",
   "execution_count": 7,
   "metadata": {},
   "outputs": [],
   "source": [
    "texts = dict(map(parse_wiki_page, pages.items())) \n",
    "# on applique la fonction parse_page à chaque item du dictionnaire pages, et on récupère le résultat sous forme de dictionnaire\n",
    "# texts: {nom_de_page: list(paragraphe1, paragraphe2...)}"
   ]
  },
  {
   "cell_type": "markdown",
   "metadata": {},
   "source": [
    "## Scrap Google"
   ]
  },
  {
   "cell_type": "code",
   "execution_count": 8,
   "metadata": {},
   "outputs": [],
   "source": [
    "def sep_url(url):\n",
    "    '''\n",
    "    Nettoyage d'url\n",
    "    '''\n",
    "    if not url.startswith('http'): # des fois l'url aspiré commence par /url?p=, on coupe donc cette partie\n",
    "        url = url[7:]\n",
    "    url = re.split('&sa=', url)[0] # des morceaux inutiles traînent à la fin de l'url (anti-aspiration google), on les coupe avec regex\n",
    "    if \"%3\" in url:\n",
    "        url = re.split('%3', url)[0]\n",
    "    return url\n",
    "\n",
    "def net_url(url):\n",
    "    if 'wikipedia' in url:\n",
    "        return False\n",
    "    elif 'google' in url:\n",
    "        return False\n",
    "    elif 'youtube' in url:\n",
    "        return False\n",
    "    else:\n",
    "        return True\n",
    "\n",
    "def get_url_list(quest, nb_url):\n",
    "    '''\n",
    "    Pour chaque paragraphe, on fait une requête google pour obtenir une liste d'url\n",
    "    \n",
    "    input:\n",
    "    quest (STR): paragraphe à chercher\n",
    "    nb_url (INT): nombre d'url à trouver\n",
    "    \n",
    "    output:\n",
    "    url_net (LIST): liste d'url\n",
    "    '''\n",
    "    n = 0 \n",
    "    url_list = []\n",
    "    \n",
    "    while n < nb_url:\n",
    "        gap = uniform(1.0,10.0)\n",
    "        time.sleep(gap)\n",
    "        url = \"http://www.google.fr/search?custom?hl=fr&q={}&start={}\".format(quest, n)\n",
    "        response = requests.get(url)\n",
    "        data = response.text\n",
    "\n",
    "        soup = bs(data, 'html.parser')\n",
    "        div_main = soup.find('div', attrs={'id':'main'})\n",
    "        divs = div_main.find_all('div', attrs={'class':'kCrYT'})\n",
    "            \n",
    "        url_list += [div.a['href'] for div in divs if div.a]\n",
    "        url_short = list(map(sep_url, url_list))\n",
    "        url_net = list(filter(net_url, url_short))\n",
    "        \n",
    "        n += 10\n",
    "        \n",
    "    return url_net"
   ]
  },
  {
   "cell_type": "code",
   "execution_count": 9,
   "metadata": {},
   "outputs": [],
   "source": [
    "def url_to_name(url):\n",
    "    if re.search('.*archives-ouvertes.*document', url):\n",
    "        req_name = url.rsplit('/', maxsplit=2)[1]\n",
    "        req_name += '.pdf'\n",
    "    elif url.endswith('/'):\n",
    "        req_name = url.rsplit('/', maxsplit=2)[1]\n",
    "    else:\n",
    "        req_name = url.rsplit('/', maxsplit=1)[1]\n",
    "    if '.' not in req_name:\n",
    "        req_name += '.html'\n",
    "    return req_name\n",
    "\n",
    "def get_urls(texts, nb_url):\n",
    "    '''\n",
    "    Génération de bdd de nom_de_page - url_list\n",
    "    \n",
    "    input:\n",
    "    texts (DICT): {nom_de_page: list(paragraphe1, paragraphe2...)}\n",
    "    nb_url (INT): nombre d'url à récupérer\n",
    "    \n",
    "    output:\n",
    "    url_dict (DICT): {nom_de_page: {paragraphe1:[url1, url2...]...}}\n",
    "    '''\n",
    "    url_dict = {}\n",
    "    for kw, text_list in texts.items(): # pour chaque paire nom_de_page - liste_de_paragraphes\n",
    "        gap = uniform(1.0,10.0)\n",
    "        print(\"{}: {} texts\\nStarting in {}s...\".format(kw, len(text_list), round(gap, 3)))\n",
    "        time.sleep(gap)\n",
    "        \n",
    "        reppath = os.path.join('../0_data_google/', kw2name(kw))\n",
    "        verify_rep(reppath) # on crée un répertoire pour chaque nom de page\n",
    "        \n",
    "        tmp = {}\n",
    "        for i, text in enumerate(text_list): # pour chaque paragraphe\n",
    "            url_list = get_url_list(text, nb_url) # on extrait la liste d'url \n",
    "            tmp[text] = url_list\n",
    "            filename = '{}.txt'.format(i+1)\n",
    "            filepath = os.path.join(reppath, filename)\n",
    "            with open(filepath, 'w', encoding='utf8', newline='\\n') as urlio:\n",
    "                urlio.write('\\n'.join(url_list)) # on écrit la liste en local\n",
    "                \n",
    "            # stocker le contenu des url en local\n",
    "            url_rep = os.path.join(reppath, str(i+1))\n",
    "            verify_rep(url_rep) # on crée le répertoire de sortie\n",
    "            \n",
    "            # fichier log pour chaque paragraphe\n",
    "            log_path = os.path.join(reppath, 'log_{}.txt'.format(i+1))\n",
    "            log_io = open(log_path, 'w', encoding='utf8', newline='\\n') \n",
    "            \n",
    "            # on lit chaque url\n",
    "            for url in tqdm(url_list, total=len(url_list), desc=\"Processing urls {}...\".format(i+1)):\n",
    "                try:\n",
    "                    req = requests.get(url)\n",
    "                except: # adresse non valide\n",
    "                    log_io.write('Invalid url: {}\\n\\n'.format(url))\n",
    "                    continue\n",
    "                if req.status_code == 200: # connexion au serveur aboutie\n",
    "                    req_name = url_to_name(url)\n",
    "                    req_path = os.path.join(url_rep, req_name)\n",
    "                    with open(req_path, 'wb') as req_io:\n",
    "                        req_io.write(req.content)\n",
    "                else: # connexion au serveur non aboutie\n",
    "                    log_io.write('Invalid url: {}\\n'.format(url))\n",
    "                    log_io.write('Status code: {}\\n\\n'.format(req.status_code))\n",
    "            \n",
    "            log_io.close()\n",
    "\n",
    "        url_dict[kw] = tmp\n",
    "        \n",
    "    return url_dict"
   ]
  },
  {
   "cell_type": "code",
   "execution_count": 10,
   "metadata": {
    "scrolled": true
   },
   "outputs": [
    {
     "name": "stdout",
     "output_type": "stream",
     "text": [
      "Gustave Flaubert: 2 texts\n",
      "Starting in 6.666s...\n"
     ]
    },
    {
     "name": "stderr",
     "output_type": "stream",
     "text": [
      "Processing urls 1...: 100%|████████████████████████████████████████████████████████████| 47/47 [00:27<00:00,  1.69it/s]\n",
      "Processing urls 2...: 100%|████████████████████████████████████████████████████████████| 47/47 [00:24<00:00,  1.93it/s]\n"
     ]
    },
    {
     "name": "stdout",
     "output_type": "stream",
     "text": [
      "Charles de Gaulle: 7 texts\n",
      "Starting in 2.438s...\n"
     ]
    },
    {
     "name": "stderr",
     "output_type": "stream",
     "text": [
      "Processing urls 1...: 100%|████████████████████████████████████████████████████████████| 48/48 [02:43<00:00,  3.41s/it]\n",
      "Processing urls 2...: 100%|████████████████████████████████████████████████████████████| 44/44 [00:49<00:00,  1.13s/it]\n",
      "Processing urls 3...: 100%|████████████████████████████████████████████████████████████| 46/46 [01:14<00:00,  1.61s/it]\n",
      "Processing urls 4...: 100%|████████████████████████████████████████████████████████████| 46/46 [00:51<00:00,  1.12s/it]\n",
      "Processing urls 5...: 100%|████████████████████████████████████████████████████████████| 24/24 [00:22<00:00,  1.09it/s]\n",
      "Processing urls 6...: 100%|████████████████████████████████████████████████████████████| 27/27 [00:39<00:00,  1.47s/it]\n",
      "Processing urls 7...: 100%|████████████████████████████████████████████████████████████| 47/47 [03:10<00:00,  4.05s/it]\n"
     ]
    },
    {
     "name": "stdout",
     "output_type": "stream",
     "text": [
      "Britney Spears: 4 texts\n",
      "Starting in 4.112s...\n"
     ]
    },
    {
     "name": "stderr",
     "output_type": "stream",
     "text": [
      "Processing urls 1...: 100%|████████████████████████████████████████████████████████████| 25/25 [00:54<00:00,  2.17s/it]\n",
      "Processing urls 2...: 100%|████████████████████████████████████████████████████████████| 45/45 [01:00<00:00,  1.33s/it]\n",
      "Processing urls 3...: 100%|████████████████████████████████████████████████████████████| 16/16 [00:22<00:00,  1.39s/it]\n",
      "Processing urls 4...: 100%|████████████████████████████████████████████████████████████| 49/49 [00:49<00:00,  1.02s/it]\n"
     ]
    }
   ],
   "source": [
    "nb_url = 50\n",
    "\n",
    "url_dict = get_urls(texts, nb_url)"
   ]
  }
 ],
 "metadata": {
  "kernelspec": {
   "display_name": "Python 3",
   "language": "python",
   "name": "python3"
  },
  "language_info": {
   "codemirror_mode": {
    "name": "ipython",
    "version": 3
   },
   "file_extension": ".py",
   "mimetype": "text/x-python",
   "name": "python",
   "nbconvert_exporter": "python",
   "pygments_lexer": "ipython3",
   "version": "3.7.4"
  }
 },
 "nbformat": 4,
 "nbformat_minor": 4
}
